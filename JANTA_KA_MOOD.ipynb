{
  "cells": [
    {
      "cell_type": "markdown",
      "metadata": {
        "id": "view-in-github",
        "colab_type": "text"
      },
      "source": [
        "<a href=\"https://colab.research.google.com/github/vedanshu786/ML-project/blob/main/JANTA_KA_MOOD.ipynb\" target=\"_parent\"><img src=\"https://colab.research.google.com/assets/colab-badge.svg\" alt=\"Open In Colab\"/></a>"
      ]
    },
    {
      "cell_type": "code",
      "execution_count": 2,
      "metadata": {
        "id": "iMPOV-3xfFi8"
      },
      "outputs": [],
      "source": [
        "import numpy as np\n",
        "import pandas as pd\n",
        "import matplotlib.pyplot as plt"
      ]
    },
    {
      "cell_type": "code",
      "source": [
        ""
      ],
      "metadata": {
        "id": "vw5gDt4Pq2pe"
      },
      "execution_count": 3,
      "outputs": []
    },
    {
      "cell_type": "code",
      "execution_count": 4,
      "metadata": {
        "id": "d9AmPCg-fq1H"
      },
      "outputs": [],
      "source": [
        "df = pd.read_csv('/content/sample_data/Guj_AC_009.xlsx - Sheet1.csv')\n"
      ]
    },
    {
      "cell_type": "code",
      "execution_count": 5,
      "metadata": {
        "colab": {
          "base_uri": "https://localhost:8080/",
          "height": 445
        },
        "id": "pPt4Ofiok3pf",
        "outputId": "c45c4c1e-cb24-4f63-be8e-621d767435cd"
      },
      "outputs": [
        {
          "output_type": "execute_result",
          "data": {
            "text/plain": [
              "   ACNo  PartNo  SectionNo  SNo HouseNoEn VoterFirstNameEn VoterLastNameEn  \\\n",
              "0     9       1          1    1         1          MINABEN         THAKKAR   \n",
              "1     9       1          1    2       1-1        PUNMABHAI          PARMAR   \n",
              "2     9       1          1    3       1-1          SITABEN          PARMAR   \n",
              "\n",
              "  VoterFirstame VoterLastName RelationType  ... Age   ContactNo ACNameEn  \\\n",
              "0       મીનાબેન         ઠક્કર            H  ...  44  9998489000  Dhanera   \n",
              "1      પુનમાભાઈ         પરમાર            F  ...  68  9879594207  Dhanera   \n",
              "2       સીતાબેન         પરમાર            H  ...  63  9879594207  Dhanera   \n",
              "\n",
              "   Acname PartNameEn  PartName  \\\n",
              "0  ધાનેરા   Nenava-1  નેનાવા-1   \n",
              "1  ધાનેરા   Nenava-1  નેનાવા-1   \n",
              "2  ધાનેરા   Nenava-1  નેનાવા-1   \n",
              "\n",
              "                                       SectionNameEn  \\\n",
              "0  ANUSUCHITJATIVAS- INDRAPURI MANDEERNEE PASE NE...   \n",
              "1  ANUSUCHITJATIVAS- INDRAPURI MANDEERNEE PASE NE...   \n",
              "2  ANUSUCHITJATIVAS- INDRAPURI MANDEERNEE PASE NE...   \n",
              "\n",
              "                                         SectionName  \\\n",
              "0  અનુસૂચિત જાતિવાસ ઈન્દ્રપુરી મંદીરની પાસે નેનાવા-1   \n",
              "1  અનુસૂચિત જાતિવાસ ઈન્દ્રપુરી મંદીરની પાસે નેનાવા-1   \n",
              "2  અનુસૂચિત જાતિવાસ ઈન્દ્રપુરી મંદીરની પાસે નેનાવા-1   \n",
              "\n",
              "                             PollingstationAddressEn  \\\n",
              "0  Building Of Primary School, East Side Room No ...   \n",
              "1  Building Of Primary School, East Side Room No ...   \n",
              "2  Building Of Primary School, East Side Room No ...   \n",
              "\n",
              "                               PollingStationAddress  \n",
              "0  પ્રાથમિક શાળાનું મકાન પુવ્ર વિભાગ, પૂવૅ બાજુ ર...  \n",
              "1  પ્રાથમિક શાળાનું મકાન પુવ્ર વિભાગ, પૂવૅ બાજુ ર...  \n",
              "2  પ્રાથમિક શાળાનું મકાન પુવ્ર વિભાગ, પૂવૅ બાજુ ર...  \n",
              "\n",
              "[3 rows x 26 columns]"
            ],
            "text/html": [
              "\n",
              "  <div id=\"df-57bfc945-36b7-491b-b1f5-5c7eec008b05\">\n",
              "    <div class=\"colab-df-container\">\n",
              "      <div>\n",
              "<style scoped>\n",
              "    .dataframe tbody tr th:only-of-type {\n",
              "        vertical-align: middle;\n",
              "    }\n",
              "\n",
              "    .dataframe tbody tr th {\n",
              "        vertical-align: top;\n",
              "    }\n",
              "\n",
              "    .dataframe thead th {\n",
              "        text-align: right;\n",
              "    }\n",
              "</style>\n",
              "<table border=\"1\" class=\"dataframe\">\n",
              "  <thead>\n",
              "    <tr style=\"text-align: right;\">\n",
              "      <th></th>\n",
              "      <th>ACNo</th>\n",
              "      <th>PartNo</th>\n",
              "      <th>SectionNo</th>\n",
              "      <th>SNo</th>\n",
              "      <th>HouseNoEn</th>\n",
              "      <th>VoterFirstNameEn</th>\n",
              "      <th>VoterLastNameEn</th>\n",
              "      <th>VoterFirstame</th>\n",
              "      <th>VoterLastName</th>\n",
              "      <th>RelationType</th>\n",
              "      <th>...</th>\n",
              "      <th>Age</th>\n",
              "      <th>ContactNo</th>\n",
              "      <th>ACNameEn</th>\n",
              "      <th>Acname</th>\n",
              "      <th>PartNameEn</th>\n",
              "      <th>PartName</th>\n",
              "      <th>SectionNameEn</th>\n",
              "      <th>SectionName</th>\n",
              "      <th>PollingstationAddressEn</th>\n",
              "      <th>PollingStationAddress</th>\n",
              "    </tr>\n",
              "  </thead>\n",
              "  <tbody>\n",
              "    <tr>\n",
              "      <th>0</th>\n",
              "      <td>9</td>\n",
              "      <td>1</td>\n",
              "      <td>1</td>\n",
              "      <td>1</td>\n",
              "      <td>1</td>\n",
              "      <td>MINABEN</td>\n",
              "      <td>THAKKAR</td>\n",
              "      <td>મીનાબેન</td>\n",
              "      <td>ઠક્કર</td>\n",
              "      <td>H</td>\n",
              "      <td>...</td>\n",
              "      <td>44</td>\n",
              "      <td>9998489000</td>\n",
              "      <td>Dhanera</td>\n",
              "      <td>ધાનેરા</td>\n",
              "      <td>Nenava-1</td>\n",
              "      <td>નેનાવા-1</td>\n",
              "      <td>ANUSUCHITJATIVAS- INDRAPURI MANDEERNEE PASE NE...</td>\n",
              "      <td>અનુસૂચિત જાતિવાસ ઈન્દ્રપુરી મંદીરની પાસે નેનાવા-1</td>\n",
              "      <td>Building Of Primary School, East Side Room No ...</td>\n",
              "      <td>પ્રાથમિક શાળાનું મકાન પુવ્ર વિભાગ, પૂવૅ બાજુ ર...</td>\n",
              "    </tr>\n",
              "    <tr>\n",
              "      <th>1</th>\n",
              "      <td>9</td>\n",
              "      <td>1</td>\n",
              "      <td>1</td>\n",
              "      <td>2</td>\n",
              "      <td>1-1</td>\n",
              "      <td>PUNMABHAI</td>\n",
              "      <td>PARMAR</td>\n",
              "      <td>પુનમાભાઈ</td>\n",
              "      <td>પરમાર</td>\n",
              "      <td>F</td>\n",
              "      <td>...</td>\n",
              "      <td>68</td>\n",
              "      <td>9879594207</td>\n",
              "      <td>Dhanera</td>\n",
              "      <td>ધાનેરા</td>\n",
              "      <td>Nenava-1</td>\n",
              "      <td>નેનાવા-1</td>\n",
              "      <td>ANUSUCHITJATIVAS- INDRAPURI MANDEERNEE PASE NE...</td>\n",
              "      <td>અનુસૂચિત જાતિવાસ ઈન્દ્રપુરી મંદીરની પાસે નેનાવા-1</td>\n",
              "      <td>Building Of Primary School, East Side Room No ...</td>\n",
              "      <td>પ્રાથમિક શાળાનું મકાન પુવ્ર વિભાગ, પૂવૅ બાજુ ર...</td>\n",
              "    </tr>\n",
              "    <tr>\n",
              "      <th>2</th>\n",
              "      <td>9</td>\n",
              "      <td>1</td>\n",
              "      <td>1</td>\n",
              "      <td>3</td>\n",
              "      <td>1-1</td>\n",
              "      <td>SITABEN</td>\n",
              "      <td>PARMAR</td>\n",
              "      <td>સીતાબેન</td>\n",
              "      <td>પરમાર</td>\n",
              "      <td>H</td>\n",
              "      <td>...</td>\n",
              "      <td>63</td>\n",
              "      <td>9879594207</td>\n",
              "      <td>Dhanera</td>\n",
              "      <td>ધાનેરા</td>\n",
              "      <td>Nenava-1</td>\n",
              "      <td>નેનાવા-1</td>\n",
              "      <td>ANUSUCHITJATIVAS- INDRAPURI MANDEERNEE PASE NE...</td>\n",
              "      <td>અનુસૂચિત જાતિવાસ ઈન્દ્રપુરી મંદીરની પાસે નેનાવા-1</td>\n",
              "      <td>Building Of Primary School, East Side Room No ...</td>\n",
              "      <td>પ્રાથમિક શાળાનું મકાન પુવ્ર વિભાગ, પૂવૅ બાજુ ર...</td>\n",
              "    </tr>\n",
              "  </tbody>\n",
              "</table>\n",
              "<p>3 rows × 26 columns</p>\n",
              "</div>\n",
              "      <button class=\"colab-df-convert\" onclick=\"convertToInteractive('df-57bfc945-36b7-491b-b1f5-5c7eec008b05')\"\n",
              "              title=\"Convert this dataframe to an interactive table.\"\n",
              "              style=\"display:none;\">\n",
              "        \n",
              "  <svg xmlns=\"http://www.w3.org/2000/svg\" height=\"24px\"viewBox=\"0 0 24 24\"\n",
              "       width=\"24px\">\n",
              "    <path d=\"M0 0h24v24H0V0z\" fill=\"none\"/>\n",
              "    <path d=\"M18.56 5.44l.94 2.06.94-2.06 2.06-.94-2.06-.94-.94-2.06-.94 2.06-2.06.94zm-11 1L8.5 8.5l.94-2.06 2.06-.94-2.06-.94L8.5 2.5l-.94 2.06-2.06.94zm10 10l.94 2.06.94-2.06 2.06-.94-2.06-.94-.94-2.06-.94 2.06-2.06.94z\"/><path d=\"M17.41 7.96l-1.37-1.37c-.4-.4-.92-.59-1.43-.59-.52 0-1.04.2-1.43.59L10.3 9.45l-7.72 7.72c-.78.78-.78 2.05 0 2.83L4 21.41c.39.39.9.59 1.41.59.51 0 1.02-.2 1.41-.59l7.78-7.78 2.81-2.81c.8-.78.8-2.07 0-2.86zM5.41 20L4 18.59l7.72-7.72 1.47 1.35L5.41 20z\"/>\n",
              "  </svg>\n",
              "      </button>\n",
              "      \n",
              "  <style>\n",
              "    .colab-df-container {\n",
              "      display:flex;\n",
              "      flex-wrap:wrap;\n",
              "      gap: 12px;\n",
              "    }\n",
              "\n",
              "    .colab-df-convert {\n",
              "      background-color: #E8F0FE;\n",
              "      border: none;\n",
              "      border-radius: 50%;\n",
              "      cursor: pointer;\n",
              "      display: none;\n",
              "      fill: #1967D2;\n",
              "      height: 32px;\n",
              "      padding: 0 0 0 0;\n",
              "      width: 32px;\n",
              "    }\n",
              "\n",
              "    .colab-df-convert:hover {\n",
              "      background-color: #E2EBFA;\n",
              "      box-shadow: 0px 1px 2px rgba(60, 64, 67, 0.3), 0px 1px 3px 1px rgba(60, 64, 67, 0.15);\n",
              "      fill: #174EA6;\n",
              "    }\n",
              "\n",
              "    [theme=dark] .colab-df-convert {\n",
              "      background-color: #3B4455;\n",
              "      fill: #D2E3FC;\n",
              "    }\n",
              "\n",
              "    [theme=dark] .colab-df-convert:hover {\n",
              "      background-color: #434B5C;\n",
              "      box-shadow: 0px 1px 3px 1px rgba(0, 0, 0, 0.15);\n",
              "      filter: drop-shadow(0px 1px 2px rgba(0, 0, 0, 0.3));\n",
              "      fill: #FFFFFF;\n",
              "    }\n",
              "  </style>\n",
              "\n",
              "      <script>\n",
              "        const buttonEl =\n",
              "          document.querySelector('#df-57bfc945-36b7-491b-b1f5-5c7eec008b05 button.colab-df-convert');\n",
              "        buttonEl.style.display =\n",
              "          google.colab.kernel.accessAllowed ? 'block' : 'none';\n",
              "\n",
              "        async function convertToInteractive(key) {\n",
              "          const element = document.querySelector('#df-57bfc945-36b7-491b-b1f5-5c7eec008b05');\n",
              "          const dataTable =\n",
              "            await google.colab.kernel.invokeFunction('convertToInteractive',\n",
              "                                                     [key], {});\n",
              "          if (!dataTable) return;\n",
              "\n",
              "          const docLinkHtml = 'Like what you see? Visit the ' +\n",
              "            '<a target=\"_blank\" href=https://colab.research.google.com/notebooks/data_table.ipynb>data table notebook</a>'\n",
              "            + ' to learn more about interactive tables.';\n",
              "          element.innerHTML = '';\n",
              "          dataTable['output_type'] = 'display_data';\n",
              "          await google.colab.output.renderOutput(dataTable, element);\n",
              "          const docLink = document.createElement('div');\n",
              "          docLink.innerHTML = docLinkHtml;\n",
              "          element.appendChild(docLink);\n",
              "        }\n",
              "      </script>\n",
              "    </div>\n",
              "  </div>\n",
              "  "
            ]
          },
          "metadata": {},
          "execution_count": 5
        }
      ],
      "source": [
        "df.head(3)"
      ]
    },
    {
      "cell_type": "markdown",
      "metadata": {
        "id": "y253tNgww57a"
      },
      "source": [
        "# SURNAME ANALYSIS\n"
      ]
    },
    {
      "cell_type": "code",
      "execution_count": 6,
      "metadata": {
        "id": "qs7XTp46uxgA"
      },
      "outputs": [],
      "source": [
        "x = pd.value_counts(np.array(df.VoterLastNameEn))"
      ]
    },
    {
      "cell_type": "markdown",
      "metadata": {
        "id": "uJAEBC9CwdVm"
      },
      "source": [
        "Maximum voting families are: PATEL,RABARI AND CHAUDHARI"
      ]
    },
    {
      "cell_type": "code",
      "execution_count": 7,
      "metadata": {
        "id": "dJHokwi65eQR"
      },
      "outputs": [],
      "source": [
        "def trans(s):\n",
        "  a =\"\"\n",
        "  if(type(s) != str):\n",
        "    return s\n",
        "  \n",
        "  for i in range(0,len(s)):\n",
        "    \n",
        "    if(s[i]=='૦'):\n",
        "        a=a+'0'\n",
        "        continue;\n",
        "    if(s[i]=='૧'):\n",
        "        a=a+'1'\n",
        "        continue;\n",
        "    if(s[i]=='૨'):\n",
        "        a=a+'2'\n",
        "        continue;\n",
        "    if(s[i]=='૩'):\n",
        "        a=a+'3'\n",
        "        continue;\n",
        "    if(s[i]=='૪'):\n",
        "        a=a+'4'\n",
        "        continue;\n",
        "    if(s[i]=='૫'):\n",
        "        a=a+'5'\n",
        "        continue;\n",
        "    if(s[i]=='\t૬'):\n",
        "        a=a+'6'\n",
        "        continue;\n",
        "    if(s[i]=='૭'):\n",
        "        a=a+'7'\n",
        "        continue;\n",
        "    if(s[i]=='૮'):\n",
        "        a=a+'8'\n",
        "        continue;\n",
        "    if(s[i]=='૯'):\n",
        "        a=a+'9'\n",
        "        continue;\n",
        "    a= a+ s[i];\n",
        "  return a;"
      ]
    },
    {
      "cell_type": "code",
      "execution_count": 8,
      "metadata": {
        "id": "oj8XliGoBaeq"
      },
      "outputs": [],
      "source": [
        "size = df.HouseNoEn\n"
      ]
    },
    {
      "cell_type": "code",
      "execution_count": 9,
      "metadata": {
        "colab": {
          "base_uri": "https://localhost:8080/"
        },
        "id": "ZRrmhRvmH-Ij",
        "outputId": "14efeff9-18b4-4eae-890c-9a2b07d11c6a"
      },
      "outputs": [
        {
          "output_type": "stream",
          "name": "stdout",
          "text": [
            "33\n"
          ]
        }
      ],
      "source": [
        "family_size =[]\n",
        "par=1;\n",
        "max_size=1;\n",
        "for i in range(1,len(size)):\n",
        "    if(size[i]==size[i-1]):\n",
        "      par=par+1\n",
        "    else:\n",
        "      if(par)>max_size:\n",
        "        max_size=par;\n",
        "      family_size.append(par)\n",
        "      par=1;\n",
        "print(max_size)\n",
        "#MAXMIMUM SIZE OF A FAMILY"
      ]
    },
    {
      "cell_type": "markdown",
      "metadata": {
        "id": "yuFscTxIKUEi"
      },
      "source": [
        "# SINGLE VOTERS\n"
      ]
    },
    {
      "cell_type": "code",
      "execution_count": 10,
      "metadata": {
        "colab": {
          "base_uri": "https://localhost:8080/"
        },
        "id": "zSYirfMCA38_",
        "outputId": "d1fccc25-d9c0-411b-a6ea-00291293468f"
      },
      "outputs": [
        {
          "output_type": "stream",
          "name": "stdout",
          "text": [
            "11352\n"
          ]
        }
      ],
      "source": [
        "single_voters=0;\n",
        "for i in range (1,len(size)-1):\n",
        "  if size[i]!=size[i-1] and size[i]!=size[i+1]:\n",
        "    single_voters=single_voters+1\n",
        "print(single_voters)"
      ]
    },
    {
      "cell_type": "code",
      "execution_count": 10,
      "metadata": {
        "id": "xk865RLEDkxr"
      },
      "outputs": [],
      "source": [
        ""
      ]
    },
    {
      "cell_type": "markdown",
      "metadata": {
        "id": "La8Zoy8HLV4P"
      },
      "source": [
        "# FIRST TIME VOTERS"
      ]
    },
    {
      "cell_type": "code",
      "execution_count": 11,
      "metadata": {
        "colab": {
          "base_uri": "https://localhost:8080/"
        },
        "id": "Wb_9lkxzHe69",
        "outputId": "cb185ef8-2f36-46c3-c116-e79fef24c583"
      },
      "outputs": [
        {
          "output_type": "stream",
          "name": "stdout",
          "text": [
            "9230\n"
          ]
        }
      ],
      "source": [
        "age = df.Age\n",
        "first_time_voter=0;\n",
        "for i in range (0,len(age)):\n",
        "  if(age[i]>=18 and age[i]<=22):\n",
        "    first_time_voter=first_time_voter+1;\n",
        "print(first_time_voter)"
      ]
    },
    {
      "cell_type": "code",
      "execution_count": 11,
      "metadata": {
        "id": "o2PRIvbMLe6j"
      },
      "outputs": [],
      "source": [
        ""
      ]
    },
    {
      "cell_type": "markdown",
      "metadata": {
        "id": "3hYK2IUPM8pq"
      },
      "source": [
        "# MUSLIMS"
      ]
    },
    {
      "cell_type": "code",
      "execution_count": 12,
      "metadata": {
        "id": "HtMmFnvlM_oZ"
      },
      "outputs": [],
      "source": [
        "surname_muslim = ['ghanchi', 'malik', 'garasia', 'syed', 'fakir','musalman', 'mansoori', 'khatki', 'chhippa', 'kadia', 'sipahi', 'tai', 'memon', 'patel vohra', 'sandhi', 'hajam', 'pinjara', 'mughal', 'kasbati', 'kumbhar', 'dudhwala', 'baluch', 'makrani', 'behlim', 'qureshi', 'mirasi', 'khatri', 'khokhar', 'dhobi','jat','shaikh']"
      ]
    },
    {
      "cell_type": "code",
      "execution_count": 13,
      "metadata": {
        "colab": {
          "base_uri": "https://localhost:8080/"
        },
        "id": "q4nTK3GPRTfR",
        "outputId": "f00e1813-bcad-4145-d7f9-e6bb9b123cf5"
      },
      "outputs": [
        {
          "output_type": "execute_result",
          "data": {
            "text/plain": [
              "0        THAKKAR\n",
              "1         PARMAR\n",
              "2         PARMAR\n",
              "3         PARMAR\n",
              "4         PARMAR\n",
              "          ...   \n",
              "92566     RAYGOR\n",
              "92567    rayagor\n",
              "92568    Solanki\n",
              "92569     RAYGOR\n",
              "92570     raygor\n",
              "Name: VoterLastNameEn, Length: 92571, dtype: object"
            ]
          },
          "metadata": {},
          "execution_count": 13
        }
      ],
      "source": [
        "sname = df.VoterLastNameEn\n",
        "muslim_count=0\n",
        "\n",
        "sname\n"
      ]
    },
    {
      "cell_type": "code",
      "execution_count": 14,
      "metadata": {
        "colab": {
          "base_uri": "https://localhost:8080/"
        },
        "id": "DGvpJoF9R9g9",
        "outputId": "7ef3d6d0-1b46-4c6d-9b21-9a2dc01f291b"
      },
      "outputs": [
        {
          "output_type": "stream",
          "name": "stderr",
          "text": [
            "/usr/local/lib/python3.7/dist-packages/ipykernel_launcher.py:5: SettingWithCopyWarning: \n",
            "A value is trying to be set on a copy of a slice from a DataFrame\n",
            "\n",
            "See the caveats in the documentation: https://pandas.pydata.org/pandas-docs/stable/user_guide/indexing.html#returning-a-view-versus-a-copy\n",
            "  \"\"\"\n"
          ]
        },
        {
          "output_type": "stream",
          "name": "stdout",
          "text": [
            "977\n",
            "These are the caste found : ['fakir' 'ghanchi' 'jat' 'khatri' 'kumbhar' 'mirasi' 'pinjara' 'sandhi'\n",
            " 'shaikh']\n"
          ]
        }
      ],
      "source": [
        "sirname = []\n",
        "for i in range (0,len(sname)):\n",
        "  \n",
        "  if(type(sname[i])!=str):\n",
        "    sname[i] = str(sname[i])\n",
        "  if (sname[i]).lower() in surname_muslim:\n",
        "    muslim_count=muslim_count+1;\n",
        "    sirname.append(sname[i].lower())\n",
        "print(muslim_count)\n",
        "muslim_count=0\n",
        "\n",
        "print(\"These are the caste found :\",np.unique(sirname))\n"
      ]
    },
    {
      "cell_type": "markdown",
      "metadata": {
        "id": "o_ID8t_k0v1L"
      },
      "source": [
        "# Unique Phone Number\n"
      ]
    },
    {
      "cell_type": "code",
      "execution_count": 15,
      "metadata": {
        "id": "GqXlXbwNWfFW"
      },
      "outputs": [],
      "source": [
        "def number_cleaner(n):\n",
        "  if(type(n)==int or type(n)==float):\n",
        "    k = str(n)\n",
        "    k = k[3:]\n",
        "    return int(k);\n",
        "    \n",
        "  if(type(n)==str):\n",
        "    \n",
        "    k = k[3:]\n",
        "\n",
        "      \n",
        "    return k;\n",
        "  \n",
        "\n",
        "  "
      ]
    },
    {
      "cell_type": "code",
      "execution_count": 16,
      "metadata": {
        "id": "bsZVzyiD1NPZ"
      },
      "outputs": [],
      "source": [
        "cont = df.ContactNo.unique()\n",
        "for i in range(0,len(cont)):\n",
        "  number_cleaner(cont)\n"
      ]
    },
    {
      "cell_type": "code",
      "execution_count": 17,
      "metadata": {
        "id": "WwdDqV_a78zA"
      },
      "outputs": [],
      "source": [
        "cont_str=[]\n",
        "for i in range(len(cont)):\n",
        "  if(type(cont[i])==str):\n",
        "    if(len(cont[i])==10):\n",
        "      cont_str.append(int(cont[i]))\n",
        "    continue;\n",
        "  if type(cont[i])==int or type(cont[i])==float:\n",
        "    if cont[i]>=9000000000:\n",
        "      cont_str.append(cont[i])\n",
        "  \n"
      ]
    },
    {
      "cell_type": "code",
      "execution_count": 18,
      "metadata": {
        "id": "vfYNZD9Q7I5o"
      },
      "outputs": [],
      "source": [
        "\n",
        "new_list=[]\n",
        "for i in range(0,len(cont_str)):\n",
        "  if cont_str[i] not  in new_list :\n",
        "    new_list.append(cont_str[i])"
      ]
    },
    {
      "cell_type": "code",
      "execution_count": 19,
      "metadata": {
        "colab": {
          "base_uri": "https://localhost:8080/"
        },
        "id": "0BAPugjm7Lfd",
        "outputId": "ae0ab80b-2e56-406f-f35c-aa7e5ebc0598"
      },
      "outputs": [
        {
          "output_type": "execute_result",
          "data": {
            "text/plain": [
              "12896"
            ]
          },
          "metadata": {},
          "execution_count": 19
        }
      ],
      "source": [
        "len(new_list)\n",
        "#so different numbers are 12896\n"
      ]
    },
    {
      "cell_type": "markdown",
      "source": [
        "# Christian surname"
      ],
      "metadata": {
        "id": "XAuPgTPoDlu4"
      }
    },
    {
      "cell_type": "code",
      "source": [
        "surname_christian = ['agostinho', 'alberto', 'alfonso', 'alvares', 'alves', 'amaral', 'amorin', 'andrade', 'antunes', 'arkanj', 'batista', 'borges', 'branco', 'cabral', 'camara', 'campos', 'coelho', 'correia', 'd’costa', 'd’cruz', 'd’cunha', 'd’kabral', 'd’mello','d’sa', 'd’silva', 'd’souza', 'fernandez', 'ferreira', 'figueira', 'geevarghese', 'gomez', 'henriques', 'l’costa', 'lopez', 'l’silva', 'martin', 'medeiros', 'noronha', 'pathappan', 'ouseph', 'pathrose', 'paulose', 'peeri', 'xavier', 'varughese', 'yohanan', 'yesu', 'yudaas', 'varghese', 'thoma', 'thommi', 'thomachan', 'torres', 'sequeira', 'scariachan', 'rodrigues', 'rebelo', 'quadros']"
      ],
      "metadata": {
        "id": "GagjfXqqDpQR"
      },
      "execution_count": 20,
      "outputs": []
    },
    {
      "cell_type": "code",
      "source": [
        "csname = df.VoterLastNameEn.unique()\n",
        "Christian_count=0\n",
        "\n",
        "\n"
      ],
      "metadata": {
        "id": "9CXqRiQeIR7A"
      },
      "execution_count": 21,
      "outputs": []
    },
    {
      "cell_type": "code",
      "source": [
        "for i in range (0,len(csname)):\n",
        "  \n",
        "  if(type(csname[i])!=str):\n",
        "    csname[i] = str(csname[i])\n",
        "  if (csname[i]).lower() in surname_christian:\n",
        "    \n",
        "    Christian_count=Christian_count+1;\n",
        "print(Christian_count)\n"
      ],
      "metadata": {
        "colab": {
          "base_uri": "https://localhost:8080/"
        },
        "id": "49eEI-WNIf91",
        "outputId": "9a29aee5-f2ef-4fc6-ef06-a451198aaaed"
      },
      "execution_count": 22,
      "outputs": [
        {
          "output_type": "stream",
          "name": "stdout",
          "text": [
            "0\n"
          ]
        }
      ]
    },
    {
      "cell_type": "markdown",
      "source": [
        "# Unmarried Females"
      ],
      "metadata": {
        "id": "JQYvpImZPIF6"
      }
    },
    {
      "cell_type": "code",
      "source": [
        "sexx = df.Sex\n",
        "rel = df.RelationType"
      ],
      "metadata": {
        "id": "KK8NkYHDMSZT"
      },
      "execution_count": 23,
      "outputs": []
    },
    {
      "cell_type": "code",
      "source": [
        "unmarried_female = 0\n",
        "for i in range(0,len(sexx)):\n",
        "  if(sexx[i]=='F'):\n",
        "    if(rel[i]=='F' or rel[i]=='M'):\n",
        "      unmarried_female =unmarried_female +1;\n",
        "print(\"THE UNMARRIED FEMALES ARE:\",unmarried_female )\n"
      ],
      "metadata": {
        "colab": {
          "base_uri": "https://localhost:8080/"
        },
        "id": "4VRynWo9NwbW",
        "outputId": "2faad020-0420-4b82-9001-bb7077ee83d3"
      },
      "execution_count": 24,
      "outputs": [
        {
          "output_type": "stream",
          "name": "stdout",
          "text": [
            "THE UNMARRIED FEMALES ARE: 3654\n"
          ]
        }
      ]
    },
    {
      "cell_type": "markdown",
      "source": [
        "# YOUNG MALES AND FEMALES"
      ],
      "metadata": {
        "id": "RQQ1CM-QPZBQ"
      }
    },
    {
      "cell_type": "code",
      "source": [
        "y_male=0\n",
        "y_female=0\n",
        "\n",
        "for i in range(len(sexx)):\n",
        "  if(sexx[i]=='M' and age[i]>=18 and age[i]<=25):\n",
        "    y_male=y_male+1;\n",
        "  if(sexx[i]=='F' and age[i]>=18 and age[i]<=25):\n",
        "    y_female=y_female+1;\n",
        "print(y_male,y_female)"
      ],
      "metadata": {
        "colab": {
          "base_uri": "https://localhost:8080/"
        },
        "id": "tfVY8UUxOwJ5",
        "outputId": "e146da02-58fe-47bb-c3ce-5c04a5c8ca7e"
      },
      "execution_count": 25,
      "outputs": [
        {
          "output_type": "stream",
          "name": "stdout",
          "text": [
            "10213 6510\n"
          ]
        }
      ]
    },
    {
      "cell_type": "code",
      "source": [
        "X =['YOUNG MALES', 'YOUNG FEMALES']\n",
        "Y =[y_male,y_female]\n",
        "plt.bar(X,Y,color='green')"
      ],
      "metadata": {
        "colab": {
          "base_uri": "https://localhost:8080/",
          "height": 282
        },
        "id": "RbUZKiylWjOM",
        "outputId": "76c2ecac-9e90-47bb-9354-0fd99b81c652"
      },
      "execution_count": 26,
      "outputs": [
        {
          "output_type": "execute_result",
          "data": {
            "text/plain": [
              "<BarContainer object of 2 artists>"
            ]
          },
          "metadata": {},
          "execution_count": 26
        },
        {
          "output_type": "display_data",
          "data": {
            "text/plain": [
              "<Figure size 432x288 with 1 Axes>"
            ],
            "image/png": "[encoded data removed]"
          },
          "metadata": {
            "needs_background": "light"
          }
        }
      ]
    },
    {
      "cell_type": "code",
      "source": [
        "Man = []\n",
        "for i in range(len(sexx)):\n",
        "  if(sexx[i]=='M'):\n",
        "      Man.append(age[i])\n",
        "woman = []\n",
        "for i in range(len(sexx)):\n",
        "  if(sexx[i]=='F'):\n",
        "      woman.append(age[i])"
      ],
      "metadata": {
        "id": "-1ELZK72W-tu"
      },
      "execution_count": 27,
      "outputs": []
    },
    {
      "cell_type": "code",
      "source": [
        "plt.hist(Man,color='red')\n",
        "plt.xlabel('AGE OF MAN')\n",
        "plt.ylabel('NO. OF MAN')"
      ],
      "metadata": {
        "colab": {
          "base_uri": "https://localhost:8080/",
          "height": 296
        },
        "id": "fs14L5Y2YAUg",
        "outputId": "364c50fb-e551-4dfb-e6a7-89e879ad75dd"
      },
      "execution_count": 28,
      "outputs": [
        {
          "output_type": "execute_result",
          "data": {
            "text/plain": [
              "Text(0, 0.5, 'NO. OF MAN')"
            ]
          },
          "metadata": {},
          "execution_count": 28
        },
        {
          "output_type": "display_data",
          "data": {
            "text/plain": [
              "<Figure size 432x288 with 1 Axes>"
            ],
            "image/png": "[encoded data removed]"
          },
          "metadata": {
            "needs_background": "light"
          }
        }
      ]
    },
    {
      "cell_type": "code",
      "source": [
        "plt.hist(woman,color='yellow')\n",
        "plt.xlabel('AGE OF WOMAN')\n",
        "plt.ylabel('NO. OF WOMAN')"
      ],
      "metadata": {
        "colab": {
          "base_uri": "https://localhost:8080/",
          "height": 296
        },
        "id": "Z38yZNVlYWZ0",
        "outputId": "2b3dee91-0e28-4606-daeb-57a41a91b9c0"
      },
      "execution_count": 29,
      "outputs": [
        {
          "output_type": "execute_result",
          "data": {
            "text/plain": [
              "Text(0, 0.5, 'NO. OF WOMAN')"
            ]
          },
          "metadata": {},
          "execution_count": 29
        },
        {
          "output_type": "display_data",
          "data": {
            "text/plain": [
              "<Figure size 432x288 with 1 Axes>"
            ],
            "image/png": "[encoded data removed]"
          },
          "metadata": {
            "needs_background": "light"
          }
        }
      ]
    },
    {
      "cell_type": "code",
      "source": [
        ""
      ],
      "metadata": {
        "id": "hbUY4Lb0YvPl"
      },
      "execution_count": 29,
      "outputs": []
    },
    {
      "cell_type": "markdown",
      "source": [
        "# YOUNG MALES ARE MORE AND THEN THE NUMBER KEEPS ON DECREASNG, AND WOMAN IN 30S ARE MORE AS COMPARED TO YOUNG WOMAN"
      ],
      "metadata": {
        "id": "PiUM2ipKY8Lg"
      }
    },
    {
      "cell_type": "code",
      "source": [
        ""
      ],
      "metadata": {
        "id": "Xt-P6OJWZKBl"
      },
      "execution_count": 29,
      "outputs": []
    },
    {
      "cell_type": "markdown",
      "source": [
        "# POLLING STATION ADDRESS"
      ],
      "metadata": {
        "id": "KK3IdtUZZK4N"
      }
    },
    {
      "cell_type": "code",
      "source": [
        "booth = df.PollingstationAddressEn\n",
        "pd.Series(booth).value_counts()\n",
        "#MOST NO. OF PEOPLE LIVE NEAR \"BOOTH Building Of Primary School, East Side Room No - 1, Nenava\" "
      ],
      "metadata": {
        "colab": {
          "base_uri": "https://localhost:8080/"
        },
        "id": "lFH_o6-TZ00c",
        "outputId": "5e3f0272-4b30-4ddb-eade-4911f5da5b23"
      },
      "execution_count": 30,
      "outputs": [
        {
          "output_type": "execute_result",
          "data": {
            "text/plain": [
              "Building Of Primary School, East Side Room No - 1, Nenava                       1311\n",
              "New Building Of Priamry Schoool, West Side Room No - 7, Dhakha                  1298\n",
              "Building Of Primary School, South Side Room No -1, Nanuda                       1291\n",
              "Building Of Primary  School, Room No -1, Vachola, Vachhol                       1280\n",
              "New Building Of Primary School, North Side Room No -2, Bhajana, Bhajna          1278\n",
              "                                                                                ... \n",
              "Building Of Primary School, West Side Room No -3, Anapurchota, Anapur Chhota     520\n",
              "Buildig Of Primary School, North Side, Room No -3, Talegat, Talegadh             513\n",
              "Building Of Primary School, West Side,Room No -2, Anapuragat, Anapurgadh         501\n",
              "New Building Of Primary School, West Side Room No-4, Dharanogar, Dharnodhar      460\n",
              "Building Of Primary School, West Side Room No -1, Lelava                         444\n",
              "Name: PollingstationAddressEn, Length: 100, dtype: int64"
            ]
          },
          "metadata": {},
          "execution_count": 30
        }
      ]
    },
    {
      "cell_type": "code",
      "source": [
        "pd.Series(sirname).value_counts()\n",
        "#MOST MUSLIMS ARE OF KUMBHAR"
      ],
      "metadata": {
        "colab": {
          "base_uri": "https://localhost:8080/"
        },
        "id": "Nb9GaFXeZ5XY",
        "outputId": "9727d6d6-876c-440b-8699-5858d9a94733"
      },
      "execution_count": 196,
      "outputs": [
        {
          "output_type": "execute_result",
          "data": {
            "text/plain": [
              "kumbhar    310\n",
              "ghanchi    257\n",
              "sandhi     104\n",
              "khatri     102\n",
              "fakir       82\n",
              "mirasi      74\n",
              "pinjara     33\n",
              "jat         14\n",
              "shaikh       1\n",
              "dtype: int64"
            ]
          },
          "metadata": {},
          "execution_count": 196
        }
      ]
    },
    {
      "cell_type": "code",
      "source": [
        ""
      ],
      "metadata": {
        "id": "xrIuMJJ3dap_"
      },
      "execution_count": null,
      "outputs": []
    }
  ],
  "metadata": {
    "colab": {
      "collapsed_sections": [],
      "name": "JANTA_KA_MOOD.ipynb",
      "provenance": [],
      "mount_file_id": "1IjlgcRxGQfsew4-ItBKTabwG9Z_DRc0Y",
      "authorship_tag": "ABX9TyM8URNdsGj1qYZzvSSf86rA",
      "include_colab_link": true
    },
    "kernelspec": {
      "display_name": "Python 3",
      "name": "python3"
    },
    "language_info": {
      "name": "python"
    }
  },
  "nbformat": 4,
  "nbformat_minor": 0
}